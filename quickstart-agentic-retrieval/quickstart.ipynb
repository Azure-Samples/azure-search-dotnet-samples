{
 "cells": [
  {
   "cell_type": "markdown",
   "id": "b8332ffe",
   "metadata": {},
   "source": [
    "# Quickstart: Agentic retrieval in Azure AI Search\n",
    "\n",
    "Use this notebook to get started with [agentic retrieval](https://learn.microsoft.com/azure/search/search-agentic-retrieval-concept) in Azure AI Search, which integrates conversation history and large language models (LLMs) on Azure OpenAI to plan, retrieve, and synthesize complex queries.\n",
    "\n",
    "Steps in this notebook include:\n",
    "\n",
    "+ Creating an `earth_at_night` search index.\n",
    "\n",
    "+ Loading the index with documents from a GitHub URL.\n",
    "\n",
    "+ Creating an `earth-search-agent` in Azure AI Search that points to an LLM for query planning.\n",
    "\n",
    "+ Using the agent to fetch and rank relevant information from the index.\n",
    "\n",
    "+ Generating answers using the Azure OpenAI client.\n",
    "\n",
    "This notebook provides a high-level demonstration of agentic retrieval. For more detailed guidance, see [Quickstart: Run agentic retrieval in Azure AI Search](https://learn.microsoft.com/azure/search/search-get-started-agentic-retrieval)."
   ]
  },
  {
   "cell_type": "markdown",
   "id": "e03f1a5e",
   "metadata": {},
   "source": [
    "## Prerequisites\n",
    "\n",
    "+ An [Azure AI Search service](https://learn.microsoft.com/azure/search/search-create-service-portal) on the Basic tier or higher with [semantic ranker enabled](https://learn.microsoft.com/azure/search/semantic-how-to-enable-disable).\n",
    "\n",
    "+ An [Azure OpenAI resource](https://learn.microsoft.com/azure/ai-services/openai/how-to/create-resource).\n",
    "\n",
    "+ A [supported model](https://learn.microsoft.com/azure/search/search-agentic-retrieval-how-to-create#supported-models) deployed to your Azure OpenAI resource. This notebook uses `gpt-4o-mini`."
   ]
  },
  {
   "cell_type": "markdown",
   "id": "f5db21c7",
   "metadata": {},
   "source": [
    "## Configure access\n",
    "\n",
    "This notebook assumes authentication and authorization using Microsoft Entra ID and role assignments. It also assumes that you run the code from your local device.\n",
    "\n",
    "To configure role-based access:\n",
    "\n",
    "1. Sign in to the [Azure portal](https://portal.azure.com).\n",
    "\n",
    "1. [Enable role-based access](https://learn.microsoft.com/azure/search/search-security-enable-roles) on your Azure AI Search service.\n",
    "\n",
    "1. [Create a system-assigned managed identity](https://learn.microsoft.com/azure/search/search-howto-managed-identities-data-sources#create-a-system-managed-identity) on your Azure AI Search service.\n",
    "\n",
    "1. On your Azure AI Search service, [assign the following roles](https://learn.microsoft.com/azure/search/search-security-rbac#how-to-assign-roles-in-the-azure-portal) to yourself.\n",
    "\n",
    "   + **Search Service Contributor**\n",
    "\n",
    "   + **Search Index Data Contributor**\n",
    "\n",
    "   + **Search Index Data Reader**\n",
    "\n",
    "1. On your Azure OpenAI resource, assign **Cognitive Services User** to the managed identity of your search service."
   ]
  },
  {
   "cell_type": "markdown",
   "id": "b61ece34",
   "metadata": {},
   "source": [
    "## Set up connections\n",
    "\n",
    "The `sample.env` file contains environment variables for connections to Azure AI Search and Azure OpenAI. Agentic retrieval requires these connections for document retrieval, query planning, query execution, and answer generation.\n",
    "\n",
    "To set up connections:\n",
    "\n",
    "1. Sign in to the [Azure portal](https://portal.azure.com).\n",
    "\n",
    "2. Retrieve the endpoints for both Azure AI Search and Azure OpenAI.\n",
    "\n",
    "3. Save the `sample.env` file as `.env` on your local device.\n",
    "\n",
    "4. Update the `.env` file with the retrieved endpoints."
   ]
  },
  {
   "cell_type": "markdown",
   "id": "16e3ddfe",
   "metadata": {},
   "source": [
    "## Install packages and load connections\n",
    "\n",
    "This step installs the packages for this notebook and establishes connections to Azure AI Search and Azure OpenAI."
   ]
  },
  {
   "cell_type": "code",
   "execution_count": null,
   "id": "60b8a3b0",
   "metadata": {
    "language_info": {
     "name": "polyglot-notebook"
    },
    "polyglot_notebook": {
     "kernelName": "csharp"
    }
   },
   "outputs": [],
   "source": [
    "#r \"nuget: Azure.Search.Documents, 11.7.0-beta.7\"\n",
    "#r \"nuget: Azure.Identity, 1.15.0\"\n",
    "#r \"nuget:dotenv.net, 4.0.0\""
   ]
  },
  {
   "cell_type": "code",
   "execution_count": null,
   "id": "bc4a83d4",
   "metadata": {
    "language_info": {
     "name": "polyglot-notebook"
    },
    "polyglot_notebook": {
     "kernelName": "csharp"
    }
   },
   "outputs": [],
   "source": [
    "using dotenv.net;\n",
    "using Azure.Identity;\n",
    "\n",
    "// .env should be in the same directory as this notebook\n",
    "DotEnv.Load(options: new DotEnvOptions(envFilePaths: new[] { \".env\" }, ignoreExceptions: false));\n",
    "\n",
    "// Get environment variables with defaults where appropriate\n",
    "string answerModel = Environment.GetEnvironmentVariable(\"ANSWER_MODEL\") ?? \"gpt-5\";\n",
    "string endpoint = Environment.GetEnvironmentVariable(\"AZURE_SEARCH_ENDPOINT\") \n",
    "    ?? throw new InvalidOperationException(\"AZURE_SEARCH_ENDPOINT is not set.\");\n",
    "var credential = new DefaultAzureCredential();\n",
    "\n",
    "string indexName = Environment.GetEnvironmentVariable(\"AZURE_SEARCH_INDEX\") ?? \"earth_at_night\";\n",
    "string knowledgeSourceName = Environment.GetEnvironmentVariable(\"AZURE_SEARCH_KNOWLEDGE_SOURCE_NAME\") ?? \"earth-at-night-ks\";\n",
    "string azureOpenAiEndpoint = Environment.GetEnvironmentVariable(\"AZURE_OPENAI_ENDPOINT\") \n",
    "    ?? throw new InvalidOperationException(\"AZURE_OPENAI_ENDPOINT is not set.\");\n",
    "string azureOpenAiGptDeployment = Environment.GetEnvironmentVariable(\"AZURE_OPENAI_GPT_DEPLOYMENT\") ?? \"gpt-5\";\n",
    "string azureOpenAiGptModel = Environment.GetEnvironmentVariable(\"AZURE_OPENAI_GPT_MODEL\") ?? \"gpt-5\";\n",
    "string azureOpenAiApiVersion = Environment.GetEnvironmentVariable(\"AZURE_OPENAI_API_VERSION\") ?? \"2025-03-01-preview\";\n",
    "string azureOpenAiEmbeddingDeployment = Environment.GetEnvironmentVariable(\"AZURE_OPENAI_EMBEDDING_DEPLOYMENT\") ?? \"text-embedding-3-large\";\n",
    "string azureOpenAiEmbeddingModel = Environment.GetEnvironmentVariable(\"AZURE_OPENAI_EMBEDDING_MODEL\") ?? \"text-embedding-3-large\";\n",
    "string agentName = Environment.GetEnvironmentVariable(\"AZURE_SEARCH_AGENT_NAME\") ?? \"earth-search-agent\";\n",
    "string apiVersion = \"2025-05-01-Preview\";"
   ]
  },
  {
   "cell_type": "markdown",
   "id": "a5d85e5a",
   "metadata": {},
   "source": [
    "## Create an index in Azure AI Search\n",
    "\n",
    "This step creates a search index that contains plain text and vector content. You can use an existing index, but it must meet the criteria for [agentic retrieval workloads](https://learn.microsoft.com/azure/search/search-agentic-retrieval-how-to-index). The primary schema requirement is a semantic configuration with a `default_configuration_name`."
   ]
  },
  {
   "cell_type": "code",
   "execution_count": null,
   "id": "23942582",
   "metadata": {
    "language_info": {
     "name": "polyglot-notebook"
    },
    "polyglot_notebook": {
     "kernelName": "csharp"
    }
   },
   "outputs": [],
   "source": [
    "using Azure.Search.Documents.Indexes;\n",
    "using Azure.Search.Documents.Indexes.Models;\n",
    "\n",
    "// Define the fields for the index\n",
    "var fields = new List<SearchField>\n",
    "{\n",
    "    new SimpleField(\"id\", SearchFieldDataType.String) { IsKey = true, IsFilterable = true, IsSortable = true, IsFacetable = true },\n",
    "    new SearchField(\"page_chunk\", SearchFieldDataType.String) { IsFilterable = false, IsSortable = false, IsFacetable = false },\n",
    "    new SearchField(\"page_embedding_text_3_large\", SearchFieldDataType.Collection(SearchFieldDataType.Single)) { VectorSearchDimensions = 3072, VectorSearchProfileName = \"hnsw_text_3_large\" },\n",
    "    new SimpleField(\"page_number\", SearchFieldDataType.Int32) { IsFilterable = true, IsSortable = true, IsFacetable = true }\n",
    "};\n",
    "\n",
    "// Define the vectorizer\n",
    "var vectorizer = new AzureOpenAIVectorizer(vectorizerName: \"azure_openai_text_3_large\")\n",
    "{\n",
    "    Parameters = new AzureOpenAIVectorizerParameters\n",
    "    {\n",
    "        ResourceUri = new Uri(azureOpenAiEndpoint),\n",
    "        DeploymentName = azureOpenAiEmbeddingDeployment,\n",
    "        ModelName = azureOpenAiEmbeddingModel\n",
    "    }\n",
    "};\n",
    "\n",
    "// Define the vector search profile and algorithm\n",
    "var vectorSearch = new VectorSearch()\n",
    "{\n",
    "    Profiles =\n",
    "    {\n",
    "        new VectorSearchProfile(\n",
    "            name: \"hnsw_text_3_large\",\n",
    "            algorithmConfigurationName: \"alg\"\n",
    "        )\n",
    "        {\n",
    "            VectorizerName = \"azure_openai_text_3_large\"\n",
    "        }\n",
    "    },\n",
    "    Algorithms =\n",
    "    {\n",
    "        new HnswAlgorithmConfiguration(name: \"alg\")\n",
    "    },\n",
    "    Vectorizers =\n",
    "    {\n",
    "        vectorizer\n",
    "    }\n",
    "};\n",
    "\n",
    "// Define semantic configuration\n",
    "var semanticConfig = new SemanticConfiguration(\n",
    "    name: \"semantic_config\",\n",
    "    prioritizedFields: new SemanticPrioritizedFields\n",
    "    {\n",
    "        ContentFields = { new SemanticField(\"page_chunk\") }\n",
    "    }\n",
    ");\n",
    "\n",
    "var semanticSearch = new SemanticSearch()\n",
    "{\n",
    "    DefaultConfigurationName = \"semantic_config\",\n",
    "    Configurations =\n",
    "    {\n",
    "        semanticConfig\n",
    "    }\n",
    "};\n",
    "\n",
    "// Create the index\n",
    "var index = new SearchIndex(indexName)\n",
    "{\n",
    "    Fields = fields,\n",
    "    VectorSearch = vectorSearch,\n",
    "    SemanticSearch = semanticSearch\n",
    "};\n",
    "\n",
    "// Create the index client and create or update the index\n",
    "var indexClient = new SearchIndexClient(new Uri(endpoint), credential);\n",
    "await indexClient.CreateOrUpdateIndexAsync(index);\n",
    "\n",
    "Console.WriteLine($\"Index '{indexName}' created or updated successfully\");"
   ]
  },
  {
   "cell_type": "markdown",
   "id": "a4d3c782",
   "metadata": {},
   "source": [
    "## Upload sample documents\n",
    "\n",
    "This notebook uses data from NASA's Earth at Night e-book. The data is retrieved from the [azure-search-sample-data](https://github.com/Azure-Samples/azure-search-sample-data) repository on GitHub and passed to the search client for indexing."
   ]
  },
  {
   "cell_type": "code",
   "execution_count": null,
   "id": "99f40ac7",
   "metadata": {
    "language_info": {
     "name": "polyglot-notebook"
    },
    "polyglot_notebook": {
     "kernelName": "csharp"
    }
   },
   "outputs": [],
   "source": [
    "using System.Net.Http;\n",
    "using System.Text.Json;\n",
    "using Azure.Search.Documents;\n",
    "using Azure.Search.Documents.Indexes;\n",
    "using Azure.Search.Documents.Models;\n",
    "\n",
    "// Download the documents from the GitHub URL\n",
    "string url = \"https://raw.githubusercontent.com/Azure-Samples/azure-search-sample-data/refs/heads/main/nasa-e-book/earth-at-night-json/documents.json\";\n",
    "var httpClient = new HttpClient();\n",
    "var response = await httpClient.GetAsync(url);\n",
    "response.EnsureSuccessStatusCode();\n",
    "var json = await response.Content.ReadAsStringAsync();\n",
    "\n",
    "var documents = JsonSerializer.Deserialize<List<Dictionary<string, object>>>(json);\n",
    "var searchClient = new SearchClient(new Uri(endpoint), indexName, credential);\n",
    "var searchIndexingBufferedSender = new SearchIndexingBufferedSender<Dictionary<string, object>>(\n",
    "    searchClient,\n",
    "    new SearchIndexingBufferedSenderOptions<Dictionary<string, object>>\n",
    "    {\n",
    "        KeyFieldAccessor = doc => doc[\"id\"].ToString(),\n",
    "    }\n",
    ");\n",
    "\n",
    "await searchIndexingBufferedSender.UploadDocumentsAsync(documents);\n",
    "await searchIndexingBufferedSender.FlushAsync();\n",
    "\n",
    "Console.WriteLine($\"Documents uploaded to index '{indexName}'\");"
   ]
  },
  {
   "cell_type": "markdown",
   "id": "7a4fc8fa",
   "metadata": {},
   "source": [
    "## Create a knowledge source\n",
    "\n",
    "This step creates a knowledge source that targets the index you previously created. In the next step, you create a knowledge agent that uses the knowledge source to orchestrate agentic retrieval."
   ]
  },
  {
   "cell_type": "code",
   "execution_count": null,
   "metadata": {
    "language_info": {
     "name": "polyglot-notebook"
    },
    "polyglot_notebook": {
     "kernelName": "csharp"
    }
   },
   "outputs": [],
   "source": [
    "using Azure.Search.Documents.Indexes.Models;\n",
    "\n",
    "var indexKnowledgeSource = new SearchIndexKnowledgeSource(\n",
    "    name: knowledgeSourceName,\n",
    "    searchIndexParameters: new SearchIndexKnowledgeSourceParameters(searchIndexName: indexName)\n",
    "    {\n",
    "        SourceDataSelect = \"id,page_chunk,page_number\"\n",
    "    }\n",
    ");\n",
    "\n",
    "await indexClient.CreateOrUpdateKnowledgeSourceAsync(indexKnowledgeSource);"
   ]
  },
  {
   "cell_type": "markdown",
   "id": "b0af0233",
   "metadata": {},
   "source": [
    "## Create a knowledge agent\n",
    "\n",
    "\n",
    "This step creates a knowledge agent, which acts as a wrapper for your knowledge source and LLM deployment.\n",
    "\n",
    "ExtractiveData is the default modality and returns content from your knowledge sources without generative alteration. However, this quickstart uses the AnswerSynthesis modality for LLM-generated answers that cite the retrieved content."
   ]
  },
  {
   "cell_type": "code",
   "execution_count": null,
   "id": "afd8d8ed",
   "metadata": {
    "language_info": {
     "name": "polyglot-notebook"
    },
    "polyglot_notebook": {
     "kernelName": "csharp"
    }
   },
   "outputs": [],
   "source": [
    "using Azure.Search.Documents.Indexes.Models;\n",
    "\n",
    "var openAiParameters = new AzureOpenAIVectorizerParameters\n",
    "{\n",
    "    ResourceUri = new Uri(azureOpenAiEndpoint),\n",
    "    DeploymentName = azureOpenAiGptDeployment,\n",
    "    ModelName = azureOpenAiGptModel\n",
    "};\n",
    "\n",
    "var agentModel = new KnowledgeAgentAzureOpenAIModel(azureOpenAIParameters: openAiParameters);\n",
    "\n",
    "var outputConfig = new KnowledgeAgentOutputConfiguration\n",
    "{\n",
    "    Modality = KnowledgeAgentOutputConfigurationModality.AnswerSynthesis,\n",
    "    IncludeActivity = true\n",
    "};\n",
    "\n",
    "// Create the knowledge agent\n",
    "var agent = new KnowledgeAgent(\n",
    "    name: agentName,\n",
    "    models: new[] { agentModel },\n",
    "    knowledgeSources: new KnowledgeSourceReference[] { new KnowledgeSourceReference(knowledgeSourceName) { IncludeReferences = true, IncludeReferenceSourceData = true }}\n",
    ")\n",
    "{\n",
    "    OutputConfiguration = outputConfig\n",
    "};\n",
    "await indexClient.CreateOrUpdateKnowledgeAgentAsync(agent);\n",
    "Console.WriteLine($\"Search agent '{agentName}' created or updated successfully\");"
   ]
  },
  {
   "cell_type": "markdown",
   "id": "f157c598",
   "metadata": {},
   "source": [
    "## Set up messages\n",
    "\n",
    "Messages are the input for the retrieval route and contain the conversation history. Each message includes a `role` that indicates its origin, such as `assistant` or `user`, and `content` in natural language. The LLM you use determines which roles are valid."
   ]
  },
  {
   "cell_type": "code",
   "execution_count": null,
   "id": "ed6ff9dc",
   "metadata": {
    "language_info": {
     "name": "polyglot-notebook"
    },
    "polyglot_notebook": {
     "kernelName": "csharp"
    }
   },
   "outputs": [],
   "source": [
    "string instructions = @\"\n",
    "A Q&A agent that can answer questions about the Earth at night.\n",
    "Sources have a JSON format with a ref_id that must be cited in the answer.\n",
    "If you do not have the answer, respond with \"\"I don't know\"\".\n",
    "\";\n",
    "\n",
    "var messages = new List<Dictionary<string, string>>\n",
    "{\n",
    "    new Dictionary<string, string>\n",
    "    {\n",
    "        { \"role\", \"system\" },\n",
    "        { \"content\", instructions }\n",
    "    }\n",
    "};"
   ]
  },
  {
   "cell_type": "markdown",
   "id": "eb21be04",
   "metadata": {},
   "source": [
    "## Use agentic retrieval to fetch results\n",
    "\n",
    "This step runs the retrieval pipeline to extract relevant information from your search index. Based on the messages and parameters on the retrieval request, the LLM:\n",
    "\n",
    "1. Analyzes the entire conversation history to determine the underlying information need.\n",
    "\n",
    "1. Breaks down the compound user query into focused subqueries.\n",
    " \n",
    "1. Runs each subquery simultaneously against text fields and vector embeddings in your index.\n",
    "\n",
    "1. Uses semantic ranker to rerank the results of all subqueries.\n",
    "\n",
    "1. Merges the results into a single string."
   ]
  },
  {
   "cell_type": "code",
   "execution_count": null,
   "id": "239a9e12",
   "metadata": {
    "language_info": {
     "name": "polyglot-notebook"
    },
    "polyglot_notebook": {
     "kernelName": "csharp"
    }
   },
   "outputs": [],
   "source": [
    "using Azure.Search.Documents.Agents;\n",
    "using Azure.Search.Documents.Agents.Models;\n",
    "\n",
    "var agentClient = new KnowledgeAgentRetrievalClient(\n",
    "    endpoint: new Uri(endpoint),\n",
    "    agentName: agentName,\n",
    "    tokenCredential: new DefaultAzureCredential()\n",
    ");\n",
    "\n",
    "messages.Add(new Dictionary<string, string>\n",
    "{\n",
    "    { \"role\", \"user\" },\n",
    "    { \"content\", @\"\n",
    "Why do suburban belts display larger December brightening than urban cores even though absolute light levels are higher downtown?\n",
    "Why is the Phoenix nighttime street grid is so sharply visible from space, whereas large stretches of the interstate between midwestern cities remain comparatively dim?\n",
    "\" }\n",
    "});\n",
    "\n",
    "var retrievalResult = await agentClient.RetrieveAsync(\n",
    "    retrievalRequest: new KnowledgeAgentRetrievalRequest(\n",
    "            messages: messages\n",
    "                .Where(message => message[\"role\"] != \"system\")\n",
    "                .Select(\n",
    "                    message => new KnowledgeAgentMessage(content: new[] { new KnowledgeAgentMessageTextContent(message[\"content\"]) })  { Role = message[\"role\"] }\n",
    "                )\n",
    "                .ToList()\n",
    "            )\n",
    "    );\n",
    "\n",
    "messages.Add(new Dictionary<string, string>\n",
    "{\n",
    "    { \"role\", \"assistant\" },\n",
    "    { \"content\", (retrievalResult.Value.Response[0].Content[0] as KnowledgeAgentMessageTextContent).Text }\n",
    "});"
   ]
  },
  {
   "cell_type": "markdown",
   "id": "57ddaf4f",
   "metadata": {},
   "source": [
    "### Review the retrieval response, activity, and results\n",
    "\n",
    "Because your knowledge agent is configured for answer synthesis, the retrieval response contains the following values:\n",
    "\n",
    "+ An LLM-generated answer to the query that cites the retrieved documents.\n",
    "\n",
    "+ Detailed planning and execution information, including subqueries, reranking decisions, and intermediate steps.\n",
    "\n",
    "+ Source documents and chunks that contributed to the answer."
   ]
  },
  {
   "cell_type": "code",
   "execution_count": null,
   "id": "80676736",
   "metadata": {
    "language_info": {
     "name": "polyglot-notebook"
    },
    "polyglot_notebook": {
     "kernelName": "csharp"
    }
   },
   "outputs": [],
   "source": [
    "(retrievalResult.Value.Response[0].Content[0] as KnowledgeAgentMessageTextContent).Text "
   ]
  },
  {
   "cell_type": "code",
   "execution_count": null,
   "id": "9ace2c90",
   "metadata": {
    "language_info": {
     "name": "polyglot-notebook"
    },
    "polyglot_notebook": {
     "kernelName": "csharp"
    }
   },
   "outputs": [],
   "source": [
    "Console.WriteLine(\"Activities:\");\n",
    "foreach (var activity in retrievalResult.Value.Activity)\n",
    "{\n",
    "    Console.WriteLine($\"Activity Type: {activity.GetType().Name}\");\n",
    "    string json = JsonSerializer.Serialize(\n",
    "        activity,\n",
    "        activity.GetType(),\n",
    "        new JsonSerializerOptions { WriteIndented = true }\n",
    "    );\n",
    "    Console.WriteLine(json);\n",
    "}\n",
    "\n",
    "Console.WriteLine(\"Results\");\n",
    "foreach (var reference in retrievalResult.Value.References)\n",
    "{\n",
    "    Console.WriteLine($\"Reference Type: {reference.GetType().Name}\");\n",
    "    string json = JsonSerializer.Serialize(\n",
    "        reference,\n",
    "        reference.GetType(),\n",
    "        new JsonSerializerOptions { WriteIndented = true }\n",
    "    );\n",
    "    Console.WriteLine(json);\n",
    "}"
   ]
  },
  {
   "cell_type": "markdown",
   "id": "d27116bc",
   "metadata": {},
   "source": [
    "## Continue the conversation\n",
    "\n",
    "This step continues the conversation with the search agent, building upon the previous messages and queries to retrieve relevant information from your search index."
   ]
  },
  {
   "cell_type": "code",
   "execution_count": null,
   "id": "e241e04a",
   "metadata": {
    "language_info": {
     "name": "polyglot-notebook"
    },
    "polyglot_notebook": {
     "kernelName": "csharp"
    }
   },
   "outputs": [],
   "source": [
    "messages.Add(new Dictionary<string, string>\n",
    "{\n",
    "    { \"role\", \"user\" },\n",
    "    { \"content\", \"How do I find lava at night?\" }\n",
    "});\n",
    "\n",
    "\n",
    "var retrievalResult = await agentClient.RetrieveAsync(\n",
    "    retrievalRequest: new KnowledgeAgentRetrievalRequest(\n",
    "            messages: messages\n",
    "                .Where(message => message[\"role\"] != \"system\")\n",
    "                .Select(\n",
    "                    message => new KnowledgeAgentMessage(content: new[] { new KnowledgeAgentMessageTextContent(message[\"content\"]) })  { Role = message[\"role\"] }\n",
    "                )\n",
    "                .ToList()\n",
    "            )\n",
    "    );\n",
    "\n",
    "messages.Add(new Dictionary<string, string>\n",
    "{\n",
    "    { \"role\", \"assistant\" },\n",
    "    { \"content\", (retrievalResult.Value.Response[0].Content[0] as KnowledgeAgentMessageTextContent).Text }\n",
    "});\n"
   ]
  },
  {
   "cell_type": "markdown",
   "id": "96373661",
   "metadata": {},
   "source": [
    "### Review the retrieval response, activity, and results"
   ]
  },
  {
   "cell_type": "code",
   "execution_count": null,
   "id": "d9927d10",
   "metadata": {
    "language_info": {
     "name": "polyglot-notebook"
    },
    "polyglot_notebook": {
     "kernelName": "csharp"
    }
   },
   "outputs": [],
   "source": [
    "(retrievalResult.Value.Response[0].Content[0] as KnowledgeAgentMessageTextContent).Text "
   ]
  },
  {
   "cell_type": "code",
   "execution_count": null,
   "id": "462137b4",
   "metadata": {
    "language_info": {
     "name": "polyglot-notebook"
    },
    "polyglot_notebook": {
     "kernelName": "csharp"
    }
   },
   "outputs": [],
   "source": [
    "Console.WriteLine(\"Activities:\");\n",
    "foreach (var activity in retrievalResult.Value.Activity)\n",
    "{\n",
    "    Console.WriteLine($\"Activity Type: {activity.GetType().Name}\");\n",
    "    string json = JsonSerializer.Serialize(\n",
    "        activity,\n",
    "        activity.GetType(),\n",
    "        new JsonSerializerOptions { WriteIndented = true }\n",
    "    );\n",
    "    Console.WriteLine(json);\n",
    "}\n",
    "\n",
    "Console.WriteLine(\"Results\");\n",
    "foreach (var reference in retrievalResult.Value.References)\n",
    "{\n",
    "    Console.WriteLine($\"Reference Type: {reference.GetType().Name}\");\n",
    "    string json = JsonSerializer.Serialize(\n",
    "        reference,\n",
    "        reference.GetType(),\n",
    "        new JsonSerializerOptions { WriteIndented = true }\n",
    "    );\n",
    "    Console.WriteLine(json);\n",
    "}"
   ]
  },
  {
   "cell_type": "markdown",
   "id": "80883384",
   "metadata": {},
   "source": [
    "## Clean up objects and resources\n",
    "\n",
    "If you no longer need Azure AI Search or Azure OpenAI, delete them from your Azure subscription. You can also start over by deleting individual objects."
   ]
  },
  {
   "cell_type": "markdown",
   "id": "7d3532f3",
   "metadata": {},
   "source": [
    "### Delete the search agent"
   ]
  },
  {
   "cell_type": "code",
   "execution_count": null,
   "id": "8c7bb888",
   "metadata": {
    "language_info": {
     "name": "polyglot-notebook"
    },
    "polyglot_notebook": {
     "kernelName": "csharp"
    }
   },
   "outputs": [],
   "source": [
    "await indexClient.DeleteKnowledgeAgentAsync(agentName);\n",
    "System.Console.WriteLine($\"Search agent '{agentName}' deleted successfully\");"
   ]
  },
  {
   "cell_type": "markdown",
   "id": "e4e88e9c",
   "metadata": {},
   "source": [
    "### Delete the search index"
   ]
  },
  {
   "cell_type": "code",
   "execution_count": null,
   "id": "d5c709f0",
   "metadata": {
    "language_info": {
     "name": "polyglot-notebook"
    },
    "polyglot_notebook": {
     "kernelName": "csharp"
    }
   },
   "outputs": [],
   "source": [
    "await indexClient.DeleteIndexAsync(indexName);\n",
    "System.Console.WriteLine($\"Index '{indexName}' deleted successfully\");"
   ]
  }
 ],
 "metadata": {
  "kernelspec": {
   "display_name": ".NET (C#)",
   "language": "C#",
   "name": ".net-csharp"
  },
  "language_info": {
   "name": "polyglot-notebook"
  },
  "polyglot_notebook": {
   "kernelInfo": {
    "defaultKernelName": "csharp",
    "items": [
     {
      "aliases": [],
      "name": "csharp"
     }
    ]
   }
  }
 },
 "nbformat": 4,
 "nbformat_minor": 5
}
